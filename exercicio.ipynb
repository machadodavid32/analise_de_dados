{
 "cells": [
  {
   "cell_type": "markdown",
   "metadata": {},
   "source": [
    "Testando ipynb"
   ]
  },
  {
   "cell_type": "code",
   "execution_count": 1,
   "metadata": {},
   "outputs": [],
   "source": [
    "import numpy as np  "
   ]
  },
  {
   "cell_type": "code",
   "execution_count": null,
   "metadata": {},
   "outputs": [
    {
     "name": "stdout",
     "output_type": "stream",
     "text": [
      "[2.  4.  6.6 7. ]\n"
     ]
    }
   ],
   "source": [
    "# Crie 5 arrays de uma dimensão"
   ]
  },
  {
   "cell_type": "code",
   "execution_count": null,
   "metadata": {},
   "outputs": [
    {
     "name": "stdout",
     "output_type": "stream",
     "text": [
      "[ 10  20  30  40  50 100]\n"
     ]
    }
   ],
   "source": [
    "# Crie 5 arrays de duas dimensões e 5 de três dimensões"
   ]
  },
  {
   "cell_type": "code",
   "execution_count": 1,
   "metadata": {},
   "outputs": [],
   "source": [
    "import numpy as np"
   ]
  },
  {
   "cell_type": "code",
   "execution_count": null,
   "metadata": {},
   "outputs": [],
   "source": [
    "# indexação - \n",
    "array = np.array([[10, 20, 30], \n",
    "                  [40, 50, 60], \n",
    "                  [70, 80, 90]])\n",
    "array\n",
    "print(array.ndim)\n",
    "print(array.shape)\n",
    "\n",
    "# Busque o elemento na linha 1, coluna 2\n",
    "# Busque o elemento na linha 2, coluna 2\n",
    "# Busque o elemento na linha 1, coluna 0\n",
    "# Pegue dados apenas da linha zero\n",
    "# Pegue dados apenas da linha 2\n",
    "# Acesse a coluna zero\n",
    "# Acesse a coluna 1\n",
    "# Acesse  a coluna 2\n",
    "# Fatie para obter um subarray - linha 0 a 1, coluna 2 a 1\n",
    "# Fatie para obter um subarray - linha 1 a 2, coluna 0 a 1\n",
    "# Chame os iténs maiores que 30\n",
    "# Chame os iténs maiores que 50\n",
    "# Chame os iténs maiores que 70\n",
    "# Modifique o elemento linha 1, coluna 1 para 100\n",
    "# Modifique o elemmento linha 0, coluna 0, para 110\n",
    "# Modifique o elemento linha 2, coluna 1 para 800\n",
    "# "
   ]
  },
  {
   "cell_type": "code",
   "execution_count": null,
   "metadata": {},
   "outputs": [],
   "source": []
  }
 ],
 "metadata": {
  "kernelspec": {
   "display_name": "Python 3",
   "language": "python",
   "name": "python3"
  },
  "language_info": {
   "codemirror_mode": {
    "name": "ipython",
    "version": 3
   },
   "file_extension": ".py",
   "mimetype": "text/x-python",
   "name": "python",
   "nbconvert_exporter": "python",
   "pygments_lexer": "ipython3",
   "version": "3.12.3"
  }
 },
 "nbformat": 4,
 "nbformat_minor": 2
}
