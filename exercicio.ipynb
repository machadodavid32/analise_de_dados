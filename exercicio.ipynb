{
 "cells": [
  {
   "cell_type": "markdown",
   "metadata": {},
   "source": [
    "Testando ipynb"
   ]
  },
  {
   "cell_type": "code",
   "execution_count": 1,
   "metadata": {},
   "outputs": [],
   "source": [
    "import numpy as np  "
   ]
  },
  {
   "cell_type": "code",
   "execution_count": 9,
   "metadata": {},
   "outputs": [
    {
     "name": "stdout",
     "output_type": "stream",
     "text": [
      "[10 20 30 40 50]\n",
      "[1 2 3]\n",
      "['David' 'Arthur' 'Alinbe']\n",
      "[20 30 40 50 60]\n",
      "[100 200 300 400]\n"
     ]
    }
   ],
   "source": [
    "# Crie 5 arrays de uma dimensão\n",
    "array1 = np.array([10, 20, 30, 40, 50])\n",
    "print(array1)\n",
    "\n",
    "array2 = np.array([1, 2, 3])\n",
    "print(array2)\n",
    "\n",
    "array3 = np.array([\"David\", \"Arthur\", \"Alinbe\"])\n",
    "print(array3)\n",
    "\n",
    "array4 = np.array(([20, 30, 40, 50, 60]))\n",
    "print(array4)\n",
    "\n",
    "array5 = np.array([100, 200, 300, 400])\n",
    "print(array5)\n"
   ]
  },
  {
   "cell_type": "code",
   "execution_count": 17,
   "metadata": {},
   "outputs": [
    {
     "name": "stdout",
     "output_type": "stream",
     "text": [
      "[[1 2]\n",
      " [3 4]]\n",
      "[[5 6]\n",
      " [7 8]]\n",
      "[[ 9 10]\n",
      " [11 12]]\n",
      "[[13 14]\n",
      " [15 16]]\n",
      "[[17 18]\n",
      " [19 20]]\n",
      "[[1 2]\n",
      " [3 4]\n",
      " [5 6]]\n",
      "arrays\n",
      "[[1 2]\n",
      " [3 4]\n",
      " [5 6]], \n",
      "[[ 7  8]\n",
      " [ 9 10]\n",
      " [11 12]], \n",
      "[[13 14]\n",
      " [15 16]\n",
      " [17 18]], \n",
      "[[19 20]\n",
      " [21 22]\n",
      " [23 24]], \n",
      "[[25 26]\n",
      " [27 28]\n",
      " [29 30]]\n"
     ]
    }
   ],
   "source": [
    "# Crie 5 arrays de duas dimensões e 5 de três dimensões\n",
    "array2d1 = np.array([[1, 2], [3, 4]])\n",
    "print(array2d1)\n",
    "\n",
    "array2d2 = np.array([[5, 6], [7, 8]])\n",
    "print(array2d2)\n",
    "\n",
    "array2d3 = np.array([[9, 10], [11, 12]])\n",
    "print(array2d3)\n",
    "\n",
    "array2d4 = np.array([[13, 14], [15, 16]])\n",
    "print(array2d4)\n",
    "\n",
    "array2d5 = np.array([[17, 18], [19, 20]])\n",
    "print(array2d5)\n",
    "\n",
    "\n",
    "array3d1 = np.array([[1, 2], [3, 4], [5, 6]])\n",
    "print(array3d1)\n",
    "\n",
    "array3d2 = np.array ([[7, 8], [9, 10], [11, 12]])\n",
    "array3d3 = np.array([[13, 14], [15, 16], [17, 18]])\n",
    "array3d4 = np.array([[19, 20], [21, 22], [23, 24]])\n",
    "array3d5 = np.array([[25, 26], [27, 28], [29, 30]])\n",
    "print(f\"arrays\\n{array3d1}, \\n{array3d2}, \\n{array3d3}, \\n{array3d4}, \\n{array3d5}\")\n"
   ]
  },
  {
   "cell_type": "code",
   "execution_count": 6,
   "metadata": {},
   "outputs": [],
   "source": [
    "import numpy as np"
   ]
  },
  {
   "cell_type": "code",
   "execution_count": null,
   "metadata": {},
   "outputs": [
    {
     "name": "stdout",
     "output_type": "stream",
     "text": [
      "2\n",
      "(3, 3)\n",
      " linha 0 a 1, coluna 1 a 2 [[20 30]\n",
      " [50 60]]\n"
     ]
    },
    {
     "data": {
      "text/plain": [
       "array([80, 90])"
      ]
     },
     "execution_count": 26,
     "metadata": {},
     "output_type": "execute_result"
    }
   ],
   "source": [
    "# indexação - \n",
    "array = np.array([[10, 20, 30], \n",
    "                  [40, 50, 60], \n",
    "                  [70, 80, 90]])\n",
    "array\n",
    "print(array.ndim)\n",
    "print(array.shape)\n",
    "'''\n",
    "# Busque o elemento na linha 1, coluna 2\n",
    "buscando = array[1, 2]\n",
    "buscando\n",
    "\n",
    "# Busque o elemento na linha 2, coluna 2\n",
    "buscando2 = array[2, 2]\n",
    "buscando2\n",
    "\n",
    "# Busque o elemento na linha 1, coluna 0\n",
    "buscando3 = array[1, 0]\n",
    "buscando3\n",
    "\n",
    "# Pegue dados apenas da linha zero\n",
    "buscando4 = array[0]\n",
    "buscando4\n",
    "\n",
    "# Pegue dados apenas da linha 2\n",
    "buscando5 = array[2]\n",
    "buscando5\n",
    "\n",
    "# Acesse a coluna zero\n",
    "buscando6 = array[:, 0]\n",
    "buscando6\n",
    "\n",
    "# Acesse a coluna 1\n",
    "buscando7 = array[:, 1]\n",
    "buscando7\n",
    "\n",
    "# Acesse  a coluna 2\n",
    "buscando8 = array[:, 2]\n",
    "buscando8\n",
    "'''\n",
    "# Fatie para obter um subarray - linha 0 a 1, coluna 1 a 2\n",
    "fatiando = array[0:2, 1:3]\n",
    "print(f' linha 0 a 1, coluna 1 a 2 {fatiando}')\n",
    "\n",
    "# Fatie para obter um subarray - linha 1 a 2, coluna 0 a 1\n",
    "fatiando2 = array[1:3, 0:2]\n",
    "fatiando2\n",
    "\n",
    "# Chame os iténs maiores que 30\n",
    "chame = array > 30\n",
    "chame\n",
    "\n",
    "# Chame os iténs maiores que 50\n",
    "chame2 = array > 50\n",
    "chame2\n",
    "\n",
    "# Chame os iténs maiores que 70\n",
    "chame3 = array > 70\n",
    "chame3\n",
    "\n",
    "# Filtre elementos maiores que 30\n",
    "filtre = array[chame]\n",
    "filtre\n",
    "\n",
    "# Filtre elementos maiores que 50\n",
    "filtre2 = array[chame2]\n",
    "filtre2\n",
    "\n",
    "# Filtre elementos maiores que 70\n",
    "filtre3 = array[chame3]\n",
    "filtre3\n",
    "\n",
    "# Modifique o elemento linha 1, coluna 1 para 100\n",
    "# Modifique o elemmento linha 0, coluna 0, para 110\n",
    "# Modifique o elemento linha 2, coluna 1 para 800\n",
    "# "
   ]
  },
  {
   "cell_type": "code",
   "execution_count": null,
   "metadata": {},
   "outputs": [],
   "source": [
    "import numpy as np\n",
    "\n",
    "# Fatiamento\n",
    "array = np.array([[1, 2, 3, 4, 5], \n",
    "                  [6, 7, 8, 9, 10], \n",
    "                  [11, 12, 13, 14, 15],\n",
    "                  [16, 17, 18, 19, 20]])\n",
    "array\n",
    "\n",
    "\n",
    "# Fatie as duas primeiras linhas\n",
    "# Fatie a primeira linha\n",
    "# Fatie a linha 2 á 3\n",
    "\n"
   ]
  }
 ],
 "metadata": {
  "kernelspec": {
   "display_name": "Python 3",
   "language": "python",
   "name": "python3"
  },
  "language_info": {
   "codemirror_mode": {
    "name": "ipython",
    "version": 3
   },
   "file_extension": ".py",
   "mimetype": "text/x-python",
   "name": "python",
   "nbconvert_exporter": "python",
   "pygments_lexer": "ipython3",
   "version": "3.12.3"
  }
 },
 "nbformat": 4,
 "nbformat_minor": 2
}
