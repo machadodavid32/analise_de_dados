{
 "cells": [
  {
   "cell_type": "code",
   "execution_count": 2,
   "metadata": {},
   "outputs": [],
   "source": [
    "import numpy as np\n"
   ]
  },
  {
   "cell_type": "code",
   "execution_count": 3,
   "metadata": {},
   "outputs": [],
   "source": [
    "# Criando dois arrays 1d\n",
    "array1 = np.array([1, 2, 3])\n",
    "array2 = np.array([4, 5, 6])\n"
   ]
  },
  {
   "cell_type": "code",
   "execution_count": 4,
   "metadata": {},
   "outputs": [
    {
     "data": {
      "text/plain": [
       "array([1, 2, 3, 4, 5, 6])"
      ]
     },
     "execution_count": 4,
     "metadata": {},
     "output_type": "execute_result"
    }
   ],
   "source": [
    "# Concatenando os arrays\n",
    "novo_array = np.concatenate((array1, array2))\n",
    "novo_array"
   ]
  },
  {
   "cell_type": "code",
   "execution_count": 5,
   "metadata": {},
   "outputs": [],
   "source": [
    "# Criando arrays para nomes e notas\n",
    "nomes = np.array([\"Alice\", \"Bob\", \"Charlie\"])\n",
    "notas_matematica = np.array([85, 90, 78])\n",
    "notas_fisica = np.array([88, 79, 90])\n"
   ]
  },
  {
   "cell_type": "code",
   "execution_count": 6,
   "metadata": {},
   "outputs": [
    {
     "data": {
      "text/plain": [
       "array([['Alice', 'Bob', 'Charlie'],\n",
       "       ['85', '90', '78'],\n",
       "       ['88', '79', '90']], dtype='<U21')"
      ]
     },
     "execution_count": 6,
     "metadata": {},
     "output_type": "execute_result"
    }
   ],
   "source": [
    "# Usando np.vstack para empilhar verticalmente os dados\n",
    "dados_estudantes = np.vstack((nomes, notas_matematica, notas_fisica))\n",
    "dados_estudantes"
   ]
  },
  {
   "cell_type": "code",
   "execution_count": 8,
   "metadata": {},
   "outputs": [
    {
     "data": {
      "text/plain": [
       "array([[85, 88],\n",
       "       [90, 79],\n",
       "       [78, 90]])"
      ]
     },
     "execution_count": 8,
     "metadata": {},
     "output_type": "execute_result"
    }
   ],
   "source": [
    "# Usando o np.hstack para empilhar horizontalmente\n",
    "matriz_notas = np.column_stack((notas_matematica, notas_fisica))\n",
    "matriz_notas"
   ]
  },
  {
   "cell_type": "code",
   "execution_count": 9,
   "metadata": {},
   "outputs": [
    {
     "data": {
      "text/plain": [
       "array([[85. , 88. , 86.5],\n",
       "       [90. , 79. , 84.5],\n",
       "       [78. , 90. , 84. ]])"
      ]
     },
     "execution_count": 9,
     "metadata": {},
     "output_type": "execute_result"
    }
   ],
   "source": [
    "# Adicionando uma nova coluna com a média das notas\n",
    "media_notas = np.mean(matriz_notas, axis=1)\n",
    "matriz_final = np.column_stack((matriz_notas, media_notas))\n",
    "matriz_final"
   ]
  }
 ],
 "metadata": {
  "kernelspec": {
   "display_name": "Python 3",
   "language": "python",
   "name": "python3"
  },
  "language_info": {
   "codemirror_mode": {
    "name": "ipython",
    "version": 3
   },
   "file_extension": ".py",
   "mimetype": "text/x-python",
   "name": "python",
   "nbconvert_exporter": "python",
   "pygments_lexer": "ipython3",
   "version": "3.12.3"
  }
 },
 "nbformat": 4,
 "nbformat_minor": 2
}
