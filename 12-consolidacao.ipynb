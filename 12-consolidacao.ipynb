{
 "cells": [
  {
   "cell_type": "code",
   "execution_count": 1,
   "id": "f804a711",
   "metadata": {},
   "outputs": [],
   "source": [
    "import numpy as np\n"
   ]
  },
  {
   "cell_type": "code",
   "execution_count": null,
   "id": "f0ce1a36",
   "metadata": {},
   "outputs": [],
   "source": [
    "# Criando os dados\n",
    "nomes = np.array(['Alice', 'Bob', 'Charlie', 'David', 'Eva'])\n",
    "notas_matematica = np.array([55, 67, 72, 48, 90])\n",
    "notas_fisica = np.array([88, 76, 95, 64, 70])"
   ]
  },
  {
   "cell_type": "code",
   "execution_count": null,
   "id": "90a50625",
   "metadata": {},
   "outputs": [
    {
     "data": {
      "text/plain": [
       "array([71.5, 71.5, 83.5, 56. , 80. ])"
      ]
     },
     "execution_count": 3,
     "metadata": {},
     "output_type": "execute_result"
    }
   ],
   "source": [
    "# Calculando as medias\n",
    "media = np.mean(np.column_stack((notas_matematica, notas_fisica)), axis=1)\n",
    "media"
   ]
  },
  {
   "cell_type": "code",
   "execution_count": 4,
   "id": "a0507ee3",
   "metadata": {},
   "outputs": [
    {
     "data": {
      "text/plain": [
       "(array([0, 1, 2, 4]),)"
      ]
     },
     "execution_count": 4,
     "metadata": {},
     "output_type": "execute_result"
    }
   ],
   "source": [
    "# Identificando alunos aprovados\n",
    "alunos_aprovados = np.where(media > 60)\n",
    "alunos_aprovados"
   ]
  },
  {
   "cell_type": "code",
   "execution_count": 6,
   "id": "89a7bdb1",
   "metadata": {},
   "outputs": [
    {
     "data": {
      "text/plain": [
       "array([['Alice', '55', '88', '71.5'],\n",
       "       ['Bob', '67', '76', '71.5'],\n",
       "       ['Charlie', '72', '95', '83.5'],\n",
       "       ['David', '48', '64', '56.0'],\n",
       "       ['Eva', '90', '70', '80.0']], dtype='<U32')"
      ]
     },
     "execution_count": 6,
     "metadata": {},
     "output_type": "execute_result"
    }
   ],
   "source": [
    "# Organizando os dados em uma tabela\n",
    "dados_tabela = np.column_stack((nomes, notas_matematica, notas_fisica, media))\n",
    "dados_tabela"
   ]
  },
  {
   "cell_type": "code",
   "execution_count": 7,
   "id": "941421b2",
   "metadata": {},
   "outputs": [
    {
     "name": "stdout",
     "output_type": "stream",
     "text": [
      "Alice - média 71.50\n",
      "Bob - média 71.50\n",
      "Charlie - média 83.50\n",
      "Eva - média 80.00\n"
     ]
    }
   ],
   "source": [
    "# Exibindo alunos aprovados\n",
    "for i in alunos_aprovados[0]:  # posição zero é a do nome dos alunos\n",
    "    print(f\"{dados_tabela[i][0]} - média {media[i]:.2f}\")\n",
    "    "
   ]
  },
  {
   "cell_type": "code",
   "execution_count": 10,
   "id": "1d797df2",
   "metadata": {},
   "outputs": [
    {
     "name": "stdout",
     "output_type": "stream",
     "text": [
      "Grupo 1: ['Alice' 'Bob']\n",
      "Grupo 2: ['Charlie' 'David']\n",
      "Grupo 3: ['Eva']\n"
     ]
    }
   ],
   "source": [
    "# Dividindo em grupos\n",
    "grupos = np.array_split(nomes, 3)\n",
    "for i, value in enumerate(grupos):\n",
    "    print(f\"Grupo {i+1}: {value}\")\n"
   ]
  }
 ],
 "metadata": {
  "kernelspec": {
   "display_name": "Python 3",
   "language": "python",
   "name": "python3"
  },
  "language_info": {
   "codemirror_mode": {
    "name": "ipython",
    "version": 3
   },
   "file_extension": ".py",
   "mimetype": "text/x-python",
   "name": "python",
   "nbconvert_exporter": "python",
   "pygments_lexer": "ipython3",
   "version": "3.12.3"
  }
 },
 "nbformat": 4,
 "nbformat_minor": 5
}
