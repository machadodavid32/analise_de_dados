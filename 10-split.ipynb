{
 "cells": [
  {
   "cell_type": "code",
   "execution_count": 1,
   "id": "e14d9ac1",
   "metadata": {},
   "outputs": [],
   "source": [
    "import numpy as np"
   ]
  },
  {
   "cell_type": "code",
   "execution_count": 3,
   "id": "1e30c1cb",
   "metadata": {},
   "outputs": [
    {
     "data": {
      "text/plain": [
       "array([1, 2, 3, 4, 5, 6])"
      ]
     },
     "execution_count": 3,
     "metadata": {},
     "output_type": "execute_result"
    }
   ],
   "source": [
    "array = np.array([1, 2, 3, 4, 5, 6])\n",
    "array"
   ]
  },
  {
   "cell_type": "code",
   "execution_count": 4,
   "id": "e23ac649",
   "metadata": {},
   "outputs": [
    {
     "data": {
      "text/plain": [
       "[array([1, 2]), array([3, 4]), array([5, 6])]"
      ]
     },
     "execution_count": 4,
     "metadata": {},
     "output_type": "execute_result"
    }
   ],
   "source": [
    "arrays_dividios = np.split(array, 3) # dividir o array em 3 partes\n",
    "arrays_dividios"
   ]
  },
  {
   "cell_type": "code",
   "execution_count": 5,
   "id": "03f71dab",
   "metadata": {},
   "outputs": [
    {
     "name": "stdout",
     "output_type": "stream",
     "text": [
      "parte 1 -> [1 2]\n",
      "parte 2 -> [3 4]\n",
      "parte 3 -> [5 6]\n"
     ]
    }
   ],
   "source": [
    "for i, value in enumerate(arrays_dividios):\n",
    "    print(f\"parte {i+1} -> {value}\")\n",
    "    "
   ]
  },
  {
   "cell_type": "code",
   "execution_count": 10,
   "id": "0d3d58d6",
   "metadata": {},
   "outputs": [
    {
     "data": {
      "text/plain": [
       "array([22, 21, 20, 23, 22, 24, 24, 23, 22, 20, 21, 22, 19, 19, 18, 21, 21,\n",
       "       22, 23, 23, 24, 23, 24, 23, 22, 22, 23, 24, 23, 20, 22, 23])"
      ]
     },
     "execution_count": 10,
     "metadata": {},
     "output_type": "execute_result"
    }
   ],
   "source": [
    "# Criando um array com 1 dimensão com temperaturas diarias de um mês (30 dias)\n",
    "temperaturas = np.array([22, 21, 20, 23, 22,\n",
    "                         24, 24, 23, 22, 20,\n",
    "                         21, 22, 19, 19, 18,\n",
    "                         21, 21, 22, 23, 23, \n",
    "                         24, 23, 24, 23, 22,\n",
    "                         22, 23, 24, 23, 20, \n",
    "                         22, 23])\n",
    "temperaturas"
   ]
  },
  {
   "cell_type": "code",
   "execution_count": 11,
   "id": "ddd949cf",
   "metadata": {},
   "outputs": [
    {
     "data": {
      "text/plain": [
       "[array([22, 21, 20, 23, 22, 24, 24, 23]),\n",
       " array([22, 20, 21, 22, 19, 19, 18, 21]),\n",
       " array([21, 22, 23, 23, 24, 23, 24, 23]),\n",
       " array([22, 22, 23, 24, 23, 20, 22, 23])]"
      ]
     },
     "execution_count": 11,
     "metadata": {},
     "output_type": "execute_result"
    }
   ],
   "source": [
    "semanas = np.split(temperaturas, 4) # dividindo o mes por quatro semanas\n",
    "semanas"
   ]
  },
  {
   "cell_type": "code",
   "execution_count": 12,
   "id": "35fd4fda",
   "metadata": {},
   "outputs": [
    {
     "name": "stdout",
     "output_type": "stream",
     "text": [
      "Semana 1: [22 21 20 23 22 24 24 23]\n",
      "Semana 2: [22 20 21 22 19 19 18 21]\n",
      "Semana 3: [21 22 23 23 24 23 24 23]\n",
      "Semana 4: [22 22 23 24 23 20 22 23]\n"
     ]
    }
   ],
   "source": [
    "for i, value in enumerate(semanas):\n",
    "    print(f\"Semana {i+1}: {value}\")"
   ]
  },
  {
   "cell_type": "code",
   "execution_count": 13,
   "id": "7bdb99e6",
   "metadata": {},
   "outputs": [
    {
     "data": {
      "text/plain": [
       "[22.375, 20.25, 22.875, 22.375]"
      ]
     },
     "execution_count": 13,
     "metadata": {},
     "output_type": "execute_result"
    }
   ],
   "source": [
    "media_semanas = [np.mean(semana) for semana in semanas]\n",
    "media_semanas\n"
   ]
  },
  {
   "cell_type": "code",
   "execution_count": 14,
   "id": "9494a343",
   "metadata": {},
   "outputs": [
    {
     "name": "stdout",
     "output_type": "stream",
     "text": [
      "Média da semana 1:  22.38c\n",
      "Média da semana 2:  20.25c\n",
      "Média da semana 3:  22.88c\n",
      "Média da semana 4:  22.38c\n"
     ]
    }
   ],
   "source": [
    "for i, value in enumerate(media_semanas):\n",
    "    print(f\"Média da semana {i+1}: {value: .2f}c\")"
   ]
  }
 ],
 "metadata": {
  "kernelspec": {
   "display_name": "Python 3",
   "language": "python",
   "name": "python3"
  },
  "language_info": {
   "codemirror_mode": {
    "name": "ipython",
    "version": 3
   },
   "file_extension": ".py",
   "mimetype": "text/x-python",
   "name": "python",
   "nbconvert_exporter": "python",
   "pygments_lexer": "ipython3",
   "version": "3.12.3"
  }
 },
 "nbformat": 4,
 "nbformat_minor": 5
}
