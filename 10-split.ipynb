{
 "cells": [
  {
   "cell_type": "code",
   "execution_count": 1,
   "id": "e14d9ac1",
   "metadata": {},
   "outputs": [],
   "source": [
    "import numpy as np"
   ]
  },
  {
   "cell_type": "code",
   "execution_count": 3,
   "id": "1e30c1cb",
   "metadata": {},
   "outputs": [
    {
     "data": {
      "text/plain": [
       "array([1, 2, 3, 4, 5, 6])"
      ]
     },
     "execution_count": 3,
     "metadata": {},
     "output_type": "execute_result"
    }
   ],
   "source": [
    "array = np.array([1, 2, 3, 4, 5, 6])\n",
    "array"
   ]
  },
  {
   "cell_type": "code",
   "execution_count": 4,
   "id": "e23ac649",
   "metadata": {},
   "outputs": [
    {
     "data": {
      "text/plain": [
       "[array([1, 2]), array([3, 4]), array([5, 6])]"
      ]
     },
     "execution_count": 4,
     "metadata": {},
     "output_type": "execute_result"
    }
   ],
   "source": [
    "arrays_dividios = np.split(array, 3) # dividir o array em 3 partes\n",
    "arrays_dividios"
   ]
  },
  {
   "cell_type": "code",
   "execution_count": 5,
   "id": "03f71dab",
   "metadata": {},
   "outputs": [
    {
     "name": "stdout",
     "output_type": "stream",
     "text": [
      "parte 1 -> [1 2]\n",
      "parte 2 -> [3 4]\n",
      "parte 3 -> [5 6]\n"
     ]
    }
   ],
   "source": [
    "for i, value in enumerate(arrays_dividios):\n",
    "    print(f\"parte {i+1} -> {value}\")\n",
    "    "
   ]
  },
  {
   "cell_type": "code",
   "execution_count": 6,
   "id": "0d3d58d6",
   "metadata": {},
   "outputs": [
    {
     "data": {
      "text/plain": [
       "array([22, 21, 20, 23, 22, 24, 24, 23, 22, 20, 21, 22, 19, 19, 18, 21, 21,\n",
       "       22, 23, 23, 24, 23, 24, 23, 22, 22, 23, 24, 23, 20])"
      ]
     },
     "execution_count": 6,
     "metadata": {},
     "output_type": "execute_result"
    }
   ],
   "source": [
    "# Criando um array com 1 dimensão com temperaturas diarias de um mês (30 dias)\n",
    "temperaturas = np.array([22, 21, 20, 23, 22,\n",
    "                         24, 24, 23, 22, 20,\n",
    "                         21, 22, 19, 19, 18,\n",
    "                         21, 21,22, 23, 23, \n",
    "                         24, 23, 24, 23, 22,\n",
    "                         22, 23, 24, 23, 20])\n",
    "temperaturas"
   ]
  },
  {
   "cell_type": "code",
   "execution_count": 13,
   "id": "ddd949cf",
   "metadata": {},
   "outputs": [
    {
     "ename": "ValueError",
     "evalue": "array split does not result in an equal division",
     "output_type": "error",
     "traceback": [
      "\u001b[31m---------------------------------------------------------------------------\u001b[39m",
      "\u001b[31mValueError\u001b[39m                                Traceback (most recent call last)",
      "\u001b[36mCell\u001b[39m\u001b[36m \u001b[39m\u001b[32mIn[13]\u001b[39m\u001b[32m, line 1\u001b[39m\n\u001b[32m----> \u001b[39m\u001b[32m1\u001b[39m semanas = \u001b[43mnp\u001b[49m\u001b[43m.\u001b[49m\u001b[43msplit\u001b[49m\u001b[43m(\u001b[49m\u001b[43mtemperaturas\u001b[49m\u001b[43m,\u001b[49m\u001b[43m \u001b[49m\u001b[32;43m4\u001b[39;49m\u001b[43m)\u001b[49m \u001b[38;5;66;03m# dividindo o mes por 4 semanas\u001b[39;00m\n\u001b[32m      2\u001b[39m semanas\n",
      "\u001b[36mFile \u001b[39m\u001b[32m/usr/lib/python3/dist-packages/numpy/lib/shape_base.py:864\u001b[39m, in \u001b[36msplit\u001b[39m\u001b[34m(ary, indices_or_sections, axis)\u001b[39m\n\u001b[32m    862\u001b[39m     N = ary.shape[axis]\n\u001b[32m    863\u001b[39m     \u001b[38;5;28;01mif\u001b[39;00m N % sections:\n\u001b[32m--> \u001b[39m\u001b[32m864\u001b[39m         \u001b[38;5;28;01mraise\u001b[39;00m \u001b[38;5;167;01mValueError\u001b[39;00m(\n\u001b[32m    865\u001b[39m             \u001b[33m'\u001b[39m\u001b[33marray split does not result in an equal division\u001b[39m\u001b[33m'\u001b[39m) \u001b[38;5;28;01mfrom\u001b[39;00m\u001b[38;5;250m \u001b[39m\u001b[38;5;28;01mNone\u001b[39;00m\n\u001b[32m    866\u001b[39m \u001b[38;5;28;01mreturn\u001b[39;00m array_split(ary, indices_or_sections, axis)\n",
      "\u001b[31mValueError\u001b[39m: array split does not result in an equal division"
     ]
    }
   ],
   "source": [
    "semanas = np.split(temperaturas, 4) # dividindo o mes por 4 semanas\n",
    "semanas"
   ]
  }
 ],
 "metadata": {
  "kernelspec": {
   "display_name": "Python 3",
   "language": "python",
   "name": "python3"
  },
  "language_info": {
   "codemirror_mode": {
    "name": "ipython",
    "version": 3
   },
   "file_extension": ".py",
   "mimetype": "text/x-python",
   "name": "python",
   "nbconvert_exporter": "python",
   "pygments_lexer": "ipython3",
   "version": "3.12.3"
  }
 },
 "nbformat": 4,
 "nbformat_minor": 5
}
