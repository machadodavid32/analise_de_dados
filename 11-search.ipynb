{
 "cells": [
  {
   "cell_type": "code",
   "execution_count": 1,
   "id": "561bb133",
   "metadata": {},
   "outputs": [],
   "source": [
    "import numpy as np"
   ]
  },
  {
   "cell_type": "code",
   "execution_count": 2,
   "id": "eb9c5831",
   "metadata": {},
   "outputs": [
    {
     "data": {
      "text/plain": [
       "array([10, 20, 30, 40, 50])"
      ]
     },
     "execution_count": 2,
     "metadata": {},
     "output_type": "execute_result"
    }
   ],
   "source": [
    "array = np.array([10, 20, 30, 40, 50])\n",
    "array"
   ]
  },
  {
   "cell_type": "code",
   "execution_count": 3,
   "id": "0bea2a15",
   "metadata": {},
   "outputs": [
    {
     "data": {
      "text/plain": [
       "(array([2]),)"
      ]
     },
     "execution_count": 3,
     "metadata": {},
     "output_type": "execute_result"
    }
   ],
   "source": [
    "# Pesquisar a posição valor 30\n",
    "posicao = np.where(array==30)\n",
    "posicao"
   ]
  },
  {
   "cell_type": "code",
   "execution_count": 4,
   "id": "d18662fc",
   "metadata": {},
   "outputs": [
    {
     "data": {
      "text/plain": [
       "array([55, 67, 72, 48, 90, 85, 60, 50])"
      ]
     },
     "execution_count": 4,
     "metadata": {},
     "output_type": "execute_result"
    }
   ],
   "source": [
    "# Criar uma array com notas de alunos\n",
    "notas = np.array([55, 67, 72, 48, 90, 85, 60, 50])\n",
    "notas"
   ]
  },
  {
   "cell_type": "code",
   "execution_count": null,
   "id": "093264ef",
   "metadata": {},
   "outputs": [
    {
     "data": {
      "text/plain": [
       "(array([1, 2, 4, 5, 6]),)"
      ]
     },
     "execution_count": 5,
     "metadata": {},
     "output_type": "execute_result"
    }
   ],
   "source": [
    "# Pesquisar quais alunos foram aprovados\n",
    "alunos_aprovados = np.where(notas >= 60) # vai passar os indices> (array([1, 2, 4, 5, 6]),)\n",
    "alunos_aprovados"
   ]
  },
  {
   "cell_type": "code",
   "execution_count": null,
   "id": "fbf2facb",
   "metadata": {},
   "outputs": [
    {
     "data": {
      "text/plain": [
       "array([67, 72, 90, 85, 60])"
      ]
     },
     "execution_count": 6,
     "metadata": {},
     "output_type": "execute_result"
    }
   ],
   "source": [
    "# Notas que foram aprovadas\n",
    "notas[alunos_aprovados]  # array([67, 72, 90, 85, 60])\n"
   ]
  },
  {
   "cell_type": "code",
   "execution_count": 7,
   "id": "0e268bbc",
   "metadata": {},
   "outputs": [
    {
     "data": {
      "text/plain": [
       "90"
      ]
     },
     "execution_count": 7,
     "metadata": {},
     "output_type": "execute_result"
    }
   ],
   "source": [
    "nota_maxima = np.max(notas)\n",
    "nota_maxima"
   ]
  },
  {
   "cell_type": "code",
   "execution_count": null,
   "id": "d890c3c0",
   "metadata": {},
   "outputs": [
    {
     "data": {
      "text/plain": [
       "4"
      ]
     },
     "execution_count": 8,
     "metadata": {},
     "output_type": "execute_result"
    }
   ],
   "source": [
    "indice_nota_maxima = np.argmax(notas)\n",
    "indice_nota_maxima # está no indice 4"
   ]
  }
 ],
 "metadata": {
  "kernelspec": {
   "display_name": "Python 3",
   "language": "python",
   "name": "python3"
  },
  "language_info": {
   "codemirror_mode": {
    "name": "ipython",
    "version": 3
   },
   "file_extension": ".py",
   "mimetype": "text/x-python",
   "name": "python",
   "nbconvert_exporter": "python",
   "pygments_lexer": "ipython3",
   "version": "3.12.3"
  }
 },
 "nbformat": 4,
 "nbformat_minor": 5
}
